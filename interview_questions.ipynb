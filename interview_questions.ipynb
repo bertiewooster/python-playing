{
 "cells": [
  {
   "cell_type": "code",
   "execution_count": null,
   "metadata": {},
   "outputs": [
    {
     "name": "stdout",
     "output_type": "stream",
     "text": [
      "I'm a fruit\n",
      "I'm citrus\n"
     ]
    }
   ],
   "source": [
    "class fruit:\n",
    "    def __init__(self):\n",
    "        print(\"I'm a fruit\")\n",
    "\n",
    "class citrus(fruit):\n",
    "    def __init__(self):\n",
    "        super().__init__()\n",
    "        print(\"I'm citrus\")\n",
    "\n",
    "Lemon = citrus()"
   ]
  },
  {
   "cell_type": "code",
   "execution_count": null,
   "metadata": {},
   "outputs": [
    {
     "name": "stdout",
     "output_type": "stream",
     "text": [
      "Characters that appear at least 2 times:\n",
      "['l', 'o']\n"
     ]
    }
   ],
   "source": [
    "def char_n_appearances(str, n_appearances):\n",
    "    chars_qualified = dict()\n",
    "    for char in str:\n",
    "        char_appearances = str.count(char)\n",
    "        if char_appearances >= n_appearances:\n",
    "            chars_qualified.update({char: char_appearances}) \n",
    "\n",
    "    print(f\"Characters that appear at least {n_appearances} times:\")\n",
    "    # print(f\"{chars_qualified.keys()}\")\n",
    "\n",
    "    chars_qualified_list = []\n",
    "    for char_qualified in chars_qualified:\n",
    "        # print(char_qualified)\n",
    "        chars_qualified_list += [char_qualified]\n",
    "\n",
    "    print(chars_qualified_list)\n",
    "char_n_appearances(\"Hello world\", 2)"
   ]
  },
  {
   "cell_type": "code",
   "execution_count": null,
   "metadata": {},
   "outputs": [
    {
     "ename": "ValueError",
     "evalue": "substring not found",
     "output_type": "error",
     "traceback": [
      "\u001b[0;31m---------------------------------------------------------------------------\u001b[0m",
      "\u001b[0;31mValueError\u001b[0m                                Traceback (most recent call last)",
      "\u001b[0;32m/var/folders/9w/cn8tqbv976gckxd0c9cbr1sw0000gn/T/ipykernel_61267/463398135.py\u001b[0m in \u001b[0;36m<module>\u001b[0;34m\u001b[0m\n\u001b[0;32m----> 1\u001b[0;31m \u001b[0mstr\u001b[0m\u001b[0;34m.\u001b[0m\u001b[0mindex\u001b[0m\u001b[0;34m(\u001b[0m\u001b[0;34m\"Whirled\"\u001b[0m\u001b[0;34m)\u001b[0m\u001b[0;34m\u001b[0m\u001b[0;34m\u001b[0m\u001b[0m\n\u001b[0m",
      "\u001b[0;31mValueError\u001b[0m: substring not found"
     ]
    }
   ],
   "source": [
    "str.index(\"Whirled\")"
   ]
  },
  {
   "cell_type": "code",
   "execution_count": null,
   "metadata": {},
   "outputs": [
    {
     "data": {
      "text/plain": [
       "-1"
      ]
     },
     "execution_count": 22,
     "metadata": {},
     "output_type": "execute_result"
    }
   ],
   "source": [
    "str.find(\"Whirled\")"
   ]
  },
  {
   "cell_type": "code",
   "execution_count": null,
   "metadata": {},
   "outputs": [
    {
     "data": {
      "text/plain": [
       "'el'"
      ]
     },
     "execution_count": 23,
     "metadata": {},
     "output_type": "execute_result"
    }
   ],
   "source": [
    "str[1:3]"
   ]
  },
  {
   "cell_type": "code",
   "execution_count": null,
   "metadata": {},
   "outputs": [
    {
     "data": {
      "text/plain": [
       "'Hello Worl'"
      ]
     },
     "execution_count": 24,
     "metadata": {},
     "output_type": "execute_result"
    }
   ],
   "source": [
    "str[:-1]"
   ]
  },
  {
   "cell_type": "code",
   "execution_count": null,
   "metadata": {},
   "outputs": [
    {
     "data": {
      "text/plain": [
       "'Hello World'"
      ]
     },
     "execution_count": 26,
     "metadata": {},
     "output_type": "execute_result"
    }
   ],
   "source": [
    "str[:]"
   ]
  },
  {
   "cell_type": "code",
   "execution_count": null,
   "metadata": {},
   "outputs": [
    {
     "data": {
      "text/plain": [
       "True"
      ]
     },
     "execution_count": 27,
     "metadata": {},
     "output_type": "execute_result"
    }
   ],
   "source": [
    "str.startswith(\"H\")"
   ]
  },
  {
   "cell_type": "code",
   "execution_count": null,
   "metadata": {},
   "outputs": [
    {
     "data": {
      "text/plain": [
       "False"
      ]
     },
     "execution_count": 28,
     "metadata": {},
     "output_type": "execute_result"
    }
   ],
   "source": [
    "str.startswith(\"T\")"
   ]
  },
  {
   "cell_type": "code",
   "execution_count": null,
   "metadata": {},
   "outputs": [
    {
     "data": {
      "text/plain": [
       "True"
      ]
     },
     "execution_count": 29,
     "metadata": {},
     "output_type": "execute_result"
    }
   ],
   "source": [
    "str.endswith(\"d\")"
   ]
  },
  {
   "cell_type": "code",
   "execution_count": null,
   "metadata": {},
   "outputs": [
    {
     "data": {
      "text/plain": [
       "False"
      ]
     },
     "execution_count": 30,
     "metadata": {},
     "output_type": "execute_result"
    }
   ],
   "source": [
    "str.endswith(\"D\")"
   ]
  },
  {
   "cell_type": "code",
   "execution_count": null,
   "metadata": {},
   "outputs": [
    {
     "name": "stdout",
     "output_type": "stream",
     "text": [
      "Hello WorldHello WorldHello World\n"
     ]
    }
   ],
   "source": [
    "three_times = str * 3\n",
    "print(three_times)"
   ]
  },
  {
   "cell_type": "code",
   "execution_count": null,
   "metadata": {},
   "outputs": [
    {
     "data": {
      "text/plain": [
       "'Goodbye World'"
      ]
     },
     "execution_count": 35,
     "metadata": {},
     "output_type": "execute_result"
    }
   ],
   "source": [
    "g = str.replace(\"Hello\", \"Goodbye\")\n",
    "g"
   ]
  },
  {
   "cell_type": "code",
   "execution_count": null,
   "metadata": {},
   "outputs": [
    {
     "data": {
      "text/plain": [
       "'HELLO WORLD'"
      ]
     },
     "execution_count": 36,
     "metadata": {},
     "output_type": "execute_result"
    }
   ],
   "source": [
    "str.upper()"
   ]
  },
  {
   "cell_type": "code",
   "execution_count": null,
   "metadata": {},
   "outputs": [
    {
     "data": {
      "text/plain": [
       "'dlroW olleH'"
      ]
     },
     "execution_count": 38,
     "metadata": {},
     "output_type": "execute_result"
    }
   ],
   "source": [
    "''.join(reversed(str))"
   ]
  },
  {
   "cell_type": "code",
   "execution_count": null,
   "metadata": {},
   "outputs": [
    {
     "data": {
      "text/plain": [
       "'o World'"
      ]
     },
     "execution_count": 42,
     "metadata": {},
     "output_type": "execute_result"
    }
   ],
   "source": [
    "str.lstrip(\"leH\")"
   ]
  },
  {
   "cell_type": "code",
   "execution_count": null,
   "metadata": {},
   "outputs": [
    {
     "data": {
      "text/plain": [
       "'Hello World!'"
      ]
     },
     "execution_count": 43,
     "metadata": {},
     "output_type": "execute_result"
    }
   ],
   "source": [
    "str + \"!\""
   ]
  },
  {
   "cell_type": "code",
   "execution_count": null,
   "metadata": {},
   "outputs": [
    {
     "data": {
      "text/plain": [
       "'H:e:l:l:o: :W:o:r:l:d'"
      ]
     },
     "execution_count": 44,
     "metadata": {},
     "output_type": "execute_result"
    }
   ],
   "source": [
    "\":\".join(str)"
   ]
  },
  {
   "cell_type": "code",
   "execution_count": null,
   "metadata": {},
   "outputs": [
    {
     "data": {
      "text/plain": [
       "False"
      ]
     },
     "execution_count": 45,
     "metadata": {},
     "output_type": "execute_result"
    }
   ],
   "source": [
    "str.isalnum()"
   ]
  },
  {
   "cell_type": "code",
   "execution_count": null,
   "metadata": {},
   "outputs": [
    {
     "data": {
      "text/plain": [
       "True"
      ]
     },
     "execution_count": 46,
     "metadata": {},
     "output_type": "execute_result"
    }
   ],
   "source": [
    "\"123\".isalnum()"
   ]
  },
  {
   "cell_type": "code",
   "execution_count": null,
   "metadata": {},
   "outputs": [
    {
     "data": {
      "text/plain": [
       "False"
      ]
     },
     "execution_count": 47,
     "metadata": {},
     "output_type": "execute_result"
    }
   ],
   "source": [
    "\"-123\".isalnum()"
   ]
  },
  {
   "cell_type": "code",
   "execution_count": null,
   "metadata": {},
   "outputs": [
    {
     "name": "stdout",
     "output_type": "stream",
     "text": [
      "Hello World\n"
     ]
    },
    {
     "data": {
      "text/plain": [
       "False"
      ]
     },
     "execution_count": 49,
     "metadata": {},
     "output_type": "execute_result"
    }
   ],
   "source": [
    "print(str)\n",
    "str.isalpha()"
   ]
  },
  {
   "cell_type": "code",
   "execution_count": null,
   "metadata": {},
   "outputs": [
    {
     "data": {
      "text/plain": [
       "True"
      ]
     },
     "execution_count": 50,
     "metadata": {},
     "output_type": "execute_result"
    }
   ],
   "source": [
    "\"HelloWorld\".isalpha()"
   ]
  },
  {
   "cell_type": "code",
   "execution_count": null,
   "metadata": {},
   "outputs": [
    {
     "data": {
      "text/plain": [
       "True"
      ]
     },
     "execution_count": 52,
     "metadata": {},
     "output_type": "execute_result"
    }
   ],
   "source": [
    "\"    \".isspace()"
   ]
  },
  {
   "cell_type": "code",
   "execution_count": null,
   "metadata": {},
   "outputs": [
    {
     "name": "stdout",
     "output_type": "stream",
     "text": [
      "{'key1': 1, 'key2': 1, 'key3': 1}\n",
      "{'key2': 1, 'key3': 1}\n"
     ]
    },
    {
     "data": {
      "text/plain": [
       "('key3', 1)"
      ]
     },
     "execution_count": 76,
     "metadata": {},
     "output_type": "execute_result"
    }
   ],
   "source": [
    "x = ('key1', 'key2', 'key3')\n",
    "y = 1\n",
    "\n",
    "thisdict = dict.fromkeys(x, y)\n",
    "print(thisdict) \n",
    "\n",
    "thisdict.pop(\"key1\")\n",
    "print(thisdict)\n",
    "\n",
    "thisdict.popitem()"
   ]
  },
  {
   "cell_type": "code",
   "execution_count": null,
   "metadata": {},
   "outputs": [
    {
     "data": {
      "text/plain": [
       "dict_items([('key1', 1), ('key2', 1), ('key3', 1)])"
      ]
     },
     "execution_count": 67,
     "metadata": {},
     "output_type": "execute_result"
    }
   ],
   "source": [
    "thisdict.items()"
   ]
  },
  {
   "cell_type": "code",
   "execution_count": null,
   "metadata": {},
   "outputs": [
    {
     "data": {
      "text/plain": [
       "dict_keys(['key1', 'key2', 'key3'])"
      ]
     },
     "execution_count": 68,
     "metadata": {},
     "output_type": "execute_result"
    }
   ],
   "source": [
    "thisdict.keys()"
   ]
  },
  {
   "cell_type": "code",
   "execution_count": null,
   "metadata": {},
   "outputs": [
    {
     "data": {
      "text/plain": [
       "dict_values([1, 1, 1])"
      ]
     },
     "execution_count": 69,
     "metadata": {},
     "output_type": "execute_result"
    }
   ],
   "source": [
    "thisdict.values()"
   ]
  },
  {
   "cell_type": "code",
   "execution_count": null,
   "metadata": {},
   "outputs": [
    {
     "name": "stdout",
     "output_type": "stream",
     "text": [
      "{'key2': 1, 'key4': 5}\n"
     ]
    }
   ],
   "source": [
    "thisdict.setdefault(\"key4\", 5)\n",
    "print(thisdict)"
   ]
  },
  {
   "cell_type": "code",
   "execution_count": null,
   "metadata": {},
   "outputs": [
    {
     "name": "stdout",
     "output_type": "stream",
     "text": [
      "other_list=[1, 2, 3, 4, 5]\n",
      "my_list=[1, 2, 1, 3, 4, 5, 6, 7, 3]\n",
      "my_list=[1, 2, 1, 3, 4, 5, 6, 7, 3]\n",
      "my_list_sorted=[1, 1, 2, 3, 3, 4, 5, 6, 7]\n"
     ]
    }
   ],
   "source": [
    "my_list = [1,2,3]\n",
    "# my_list.append(4)\n",
    "my_list += [4,5]\n",
    "other_list = my_list.copy()\n",
    "print(f\"{other_list=}\")\n",
    "my_list.count(8)\n",
    "my_list.extend([6, 7, 3])\n",
    "my_list.insert(2, 1)\n",
    "print(f\"{my_list=}\")\n",
    "# my_list.pop(1)\n",
    "# my_list.remove(4)\n",
    "# my_list.reverse()\n",
    "# my_list.sort()\n",
    "my_list_sorted = sorted(my_list)\n",
    "print(f\"{my_list=}\")\n",
    "print(f\"{my_list_sorted=}\")\n",
    "# my_list.index(3, 5)"
   ]
  },
  {
   "cell_type": "code",
   "execution_count": null,
   "metadata": {},
   "outputs": [
    {
     "data": {
      "text/plain": [
       "[]"
      ]
     },
     "execution_count": 86,
     "metadata": {},
     "output_type": "execute_result"
    }
   ],
   "source": [
    "my_list.clear()\n",
    "my_list"
   ]
  },
  {
   "cell_type": "code",
   "execution_count": null,
   "metadata": {},
   "outputs": [
    {
     "name": "stdout",
     "output_type": "stream",
     "text": [
      "3.02\n",
      "3\n"
     ]
    }
   ],
   "source": [
    "str_num = \"3.02\"\n",
    "\n",
    "float_num = float(str_num)\n",
    "print(float_num)\n",
    "\n",
    "int_num = round(float_num)\n",
    "print(int_num)\n"
   ]
  },
  {
   "cell_type": "code",
   "execution_count": null,
   "metadata": {},
   "outputs": [
    {
     "data": {
      "text/plain": [
       "5.0"
      ]
     },
     "execution_count": 110,
     "metadata": {},
     "output_type": "execute_result"
    }
   ],
   "source": [
    "import math\n",
    "def pythag(a, b):\n",
    "    c = math.sqrt(a**2 + b**2)\n",
    "    return c\n",
    "\n",
    "pythag(3, 4)"
   ]
  },
  {
   "cell_type": "code",
   "execution_count": null,
   "metadata": {},
   "outputs": [
    {
     "data": {
      "text/plain": [
       "3.3333333333333335"
      ]
     },
     "execution_count": 113,
     "metadata": {},
     "output_type": "execute_result"
    }
   ],
   "source": [
    "import statistics\n",
    "statistics.mean(my_list)"
   ]
  },
  {
   "cell_type": "code",
   "execution_count": null,
   "metadata": {},
   "outputs": [
    {
     "data": {
      "text/plain": [
       "3.3333333333333335"
      ]
     },
     "execution_count": 114,
     "metadata": {},
     "output_type": "execute_result"
    }
   ],
   "source": [
    "statistics.fmean(my_list)"
   ]
  },
  {
   "cell_type": "code",
   "execution_count": null,
   "metadata": {},
   "outputs": [
    {
     "data": {
      "text/plain": [
       "2.913363289267465"
      ]
     },
     "execution_count": 128,
     "metadata": {},
     "output_type": "execute_result"
    }
   ],
   "source": [
    "statistics.geometric_mean(my_list)"
   ]
  },
  {
   "cell_type": "code",
   "execution_count": null,
   "metadata": {},
   "outputs": [
    {
     "data": {
      "text/plain": [
       "3"
      ]
     },
     "execution_count": 129,
     "metadata": {},
     "output_type": "execute_result"
    }
   ],
   "source": [
    "statistics.median(my_list)"
   ]
  },
  {
   "cell_type": "code",
   "execution_count": null,
   "metadata": {},
   "outputs": [
    {
     "data": {
      "text/plain": [
       "1"
      ]
     },
     "execution_count": 130,
     "metadata": {},
     "output_type": "execute_result"
    }
   ],
   "source": [
    "statistics.mode(my_list)"
   ]
  },
  {
   "cell_type": "code",
   "execution_count": null,
   "metadata": {},
   "outputs": [
    {
     "data": {
      "text/plain": [
       "[1, 3]"
      ]
     },
     "execution_count": 131,
     "metadata": {},
     "output_type": "execute_result"
    }
   ],
   "source": [
    "statistics.multimode(my_list)"
   ]
  },
  {
   "cell_type": "code",
   "execution_count": null,
   "metadata": {},
   "outputs": [
    {
     "data": {
      "text/plain": [
       "2.1278575558006176"
      ]
     },
     "execution_count": 132,
     "metadata": {},
     "output_type": "execute_result"
    }
   ],
   "source": [
    "statistics.stdev(my_list)"
   ]
  },
  {
   "cell_type": "code",
   "execution_count": null,
   "metadata": {},
   "outputs": [
    {
     "name": "stdout",
     "output_type": "stream",
     "text": [
      "1.0\n"
     ]
    }
   ],
   "source": [
    "import numpy as np\n",
    "from sklearn.linear_model import LinearRegression\n",
    "\n",
    "y = np.array(range(10))\n",
    "x = y.reshape((-1, 1))\n",
    "\n",
    "# x = np.array(range(len(my_list))).reshape((-1, 1))\n",
    "# y = np.array(my_list)\n",
    "model = LinearRegression()\n",
    "model.fit(x, y)\n",
    "r_sq = model.score(x, y)\n",
    "print(r_sq)"
   ]
  },
  {
   "cell_type": "code",
   "execution_count": null,
   "metadata": {},
   "outputs": [
    {
     "data": {
      "text/plain": [
       "'Hello Bob'"
      ]
     },
     "execution_count": 142,
     "metadata": {},
     "output_type": "execute_result"
    }
   ],
   "source": [
    "def say_hello(name):\n",
    "    return f\"Hello {name}\"\n",
    "\n",
    "def be_awesome(name):\n",
    "    return f\"Yo {name}, together we are the awesomest!\"\n",
    "\n",
    "def greet_bob(greeter_func):\n",
    "    return greeter_func(\"Bob\")\n",
    "\n",
    "greet_bob(say_hello)"
   ]
  },
  {
   "cell_type": "code",
   "execution_count": null,
   "metadata": {},
   "outputs": [
    {
     "name": "stdout",
     "output_type": "stream",
     "text": [
      "Printing from the parent() function\n",
      "Printing from the second_child() function\n",
      "Printing from the first_child() function\n"
     ]
    }
   ],
   "source": [
    "def parent():\n",
    "    print(\"Printing from the parent() function\")\n",
    "\n",
    "    def first_child():\n",
    "        print(\"Printing from the first_child() function\")\n",
    "\n",
    "    def second_child():\n",
    "        print(\"Printing from the second_child() function\")\n",
    "\n",
    "    second_child()\n",
    "    first_child()\n",
    "\n",
    "parent()"
   ]
  },
  {
   "cell_type": "code",
   "execution_count": null,
   "metadata": {},
   "outputs": [
    {
     "data": {
      "text/plain": [
       "'Call me Liam'"
      ]
     },
     "execution_count": 152,
     "metadata": {},
     "output_type": "execute_result"
    }
   ],
   "source": [
    "def parent(num):\n",
    "    def first_child():\n",
    "        return \"Hi, I am Emma\"\n",
    "\n",
    "    def second_child():\n",
    "        return \"Call me Liam\"\n",
    "\n",
    "    if num == 1:\n",
    "        return first_child\n",
    "    else:\n",
    "        return second_child\n",
    "\n",
    "first = parent(1)\n",
    "# first()\n",
    "parent(2)()"
   ]
  },
  {
   "cell_type": "code",
   "execution_count": null,
   "metadata": {},
   "outputs": [
    {
     "name": "stdout",
     "output_type": "stream",
     "text": [
      "Something is happening before the function is called.\n",
      "Whee!\n",
      "Something is happening after the function is called.\n"
     ]
    }
   ],
   "source": [
    "def my_decorator(func):\n",
    "    def wrapper():\n",
    "        print(\"Something is happening before the function is called.\")\n",
    "        func()\n",
    "        print(\"Something is happening after the function is called.\")\n",
    "    return wrapper\n",
    "\n",
    "def say_whee():\n",
    "    print(\"Whee!\")\n",
    "\n",
    "say_whee = my_decorator(say_whee)\n",
    "say_whee()"
   ]
  },
  {
   "cell_type": "code",
   "execution_count": null,
   "metadata": {},
   "outputs": [
    {
     "name": "stdout",
     "output_type": "stream",
     "text": [
      "Something is happening before the function is called.\n",
      "Whee!\n",
      "Something is happening after the function is called.\n"
     ]
    }
   ],
   "source": [
    "@my_decorator\n",
    "def say_whee():\n",
    "    print(\"Whee!\")\n",
    "\n",
    "say_whee()"
   ]
  },
  {
   "cell_type": "code",
   "execution_count": null,
   "metadata": {},
   "outputs": [
    {
     "name": "stdout",
     "output_type": "stream",
     "text": [
      "Creating greeting\n",
      "Creating greeting\n"
     ]
    },
    {
     "data": {
      "text/plain": [
       "<function __main__.say_whee()>"
      ]
     },
     "execution_count": 176,
     "metadata": {},
     "output_type": "execute_result"
    }
   ],
   "source": [
    "import functools\n",
    "\n",
    "def do_twice(func):\n",
    "    @functools.wraps(func)\n",
    "    def wrapper_do_twice(*args, **kwargs):\n",
    "        func(*args, **kwargs)\n",
    "        return func(*args, **kwargs)\n",
    "    return wrapper_do_twice\n",
    "\n",
    "@do_twice\n",
    "def say_whee():\n",
    "    print(\"Whee!\")\n",
    "\n",
    "# say_whee()\n",
    "\n",
    "@do_twice\n",
    "def return_greeting(name):\n",
    "    print(\"Creating greeting\")\n",
    "    return f\"Hi {name}\"\n",
    "# return_greeting(\"Jane\")\n",
    "\n",
    "return_greeting(\"Ital\")\n",
    "# hi_adam = return_greeting(\"Adam\")\n",
    "# print(hi_adam)\n",
    "\n",
    "@do_twice\n",
    "def greet(name):\n",
    "    print(f\"Hello {name}\")\n",
    "\n",
    "# greet(\"World\")\n",
    "\n",
    "say_whee"
   ]
  },
  {
   "cell_type": "code",
   "execution_count": null,
   "metadata": {},
   "outputs": [
    {
     "name": "stdout",
     "output_type": "stream",
     "text": [
      "Help on built-in function print in module builtins:\n",
      "\n",
      "print(...)\n",
      "    print(value, ..., sep=' ', end='\\n', file=sys.stdout, flush=False)\n",
      "    \n",
      "    Prints the values to a stream, or to sys.stdout by default.\n",
      "    Optional keyword arguments:\n",
      "    file:  a file-like object (stream); defaults to the current sys.stdout.\n",
      "    sep:   string inserted between values, default a space.\n",
      "    end:   string appended after the last value, default a newline.\n",
      "    flush: whether to forcibly flush the stream.\n",
      "\n"
     ]
    }
   ],
   "source": [
    "print.__name__\n",
    "help(print)"
   ]
  },
  {
   "cell_type": "code",
   "execution_count": null,
   "metadata": {},
   "outputs": [
    {
     "name": "stdout",
     "output_type": "stream",
     "text": [
      "Inside the function student={'Jim': 12, 'Anna': 14, 'Preet': 10, 'Sam': 20, 'Steve': 21}\n",
      "Outside the function student={'Jim': 12, 'Anna': 14, 'Preet': 10, 'Sam': 20, 'Steve': 21}\n"
     ]
    }
   ],
   "source": [
    "student = {\"Jim\": 12, \"Anna\": 14, \"Preet\": 10}\n",
    "def test(student):\n",
    "    new = {\"Sam\": 20, \"Steve\": 21}\n",
    "    student.update(new)\n",
    "    print(f\"Inside the function {student=}\")\n",
    "    return\n",
    "\n",
    "test(student)\n",
    "print(f\"Outside the function {student=}\")\n"
   ]
  },
  {
   "cell_type": "code",
   "execution_count": null,
   "metadata": {},
   "outputs": [
    {
     "name": "stdout",
     "output_type": "stream",
     "text": [
      "7 / 2\n"
     ]
    }
   ],
   "source": [
    "def findReducedFraction(floatNumber):\n",
    "    f = floatNumber.as_integer_ratio()\n",
    "    return f\n",
    "\n",
    "f = findReducedFraction(3.5)\n",
    "print(f\"{f[0]} / {f[1]}\")"
   ]
  },
  {
   "cell_type": "code",
   "execution_count": null,
   "metadata": {},
   "outputs": [
    {
     "data": {
      "text/plain": [
       "True"
      ]
     },
     "execution_count": 6,
     "metadata": {},
     "output_type": "execute_result"
    }
   ],
   "source": [
    "7.0.is_integer()"
   ]
  },
  {
   "cell_type": "code",
   "execution_count": null,
   "metadata": {},
   "outputs": [
    {
     "data": {
      "text/plain": [
       "False"
      ]
     },
     "execution_count": 7,
     "metadata": {},
     "output_type": "execute_result"
    }
   ],
   "source": [
    "7.1.is_integer()"
   ]
  },
  {
   "cell_type": "code",
   "execution_count": null,
   "metadata": {},
   "outputs": [
    {
     "data": {
      "text/plain": [
       "'0x1.c666666666666p+2'"
      ]
     },
     "execution_count": 8,
     "metadata": {},
     "output_type": "execute_result"
    }
   ],
   "source": [
    "7.1.hex()"
   ]
  },
  {
   "cell_type": "code",
   "execution_count": null,
   "metadata": {},
   "outputs": [
    {
     "data": {
      "text/plain": [
       "array([1, 2, 3])"
      ]
     },
     "execution_count": 1,
     "metadata": {},
     "output_type": "execute_result"
    }
   ],
   "source": [
    "import numpy as np\n",
    "a = np.array([1,2,3])\n",
    "a"
   ]
  },
  {
   "cell_type": "code",
   "execution_count": null,
   "metadata": {},
   "outputs": [
    {
     "data": {
      "text/plain": [
       "array([[1, 2, 3],\n",
       "       [4, 5, 6]])"
      ]
     },
     "execution_count": 3,
     "metadata": {},
     "output_type": "execute_result"
    }
   ],
   "source": [
    "b = np.array([[1,2,3],[4,5,6]])\n",
    "b"
   ]
  },
  {
   "cell_type": "code",
   "execution_count": null,
   "metadata": {},
   "outputs": [
    {
     "data": {
      "text/plain": [
       "array([[0., 0., 0., 0., 0.],\n",
       "       [0., 0., 0., 0., 0.],\n",
       "       [0., 0., 0., 0., 0.],\n",
       "       [0., 0., 0., 0., 0.],\n",
       "       [0., 0., 0., 0., 0.]])"
      ]
     },
     "execution_count": 5,
     "metadata": {},
     "output_type": "execute_result"
    }
   ],
   "source": [
    "z = np.zeros((5,5))\n",
    "z"
   ]
  },
  {
   "cell_type": "code",
   "execution_count": null,
   "metadata": {},
   "outputs": [
    {
     "name": "stdout",
     "output_type": "stream",
     "text": [
      "[[0. 0. 0. 0. 0.]\n",
      " [0. 0. 0. 0. 0.]\n",
      " [0. 0. 0. 0. 0.]\n",
      " [0. 0. 0. 0. 0.]\n",
      " [0. 0. 0. 0. 0.]]\n",
      "[1 9 7]\n",
      "[4 5 6]\n",
      "[ 5 14 13]\n",
      "[17 15]\n",
      "maximum = 9\n",
      "l_to_s = [9 7 1]\n",
      "n_largest = [9 7]\n"
     ]
    }
   ],
   "source": [
    "# NumPy\n",
    "import numpy as np\n",
    "import operator\n",
    "\n",
    "z = np.zeros((5,5))\n",
    "print(z)\n",
    "\n",
    "a = np.array([1,9,7])\n",
    "b = np.array([4,5,6])\n",
    "print(a)\n",
    "print(b)\n",
    "\n",
    "c = a + b\n",
    "c = operator.add(a,b)\n",
    "c = np.sum((a,b), axis=0)\n",
    "print(c)\n",
    "\n",
    "d = np.sum((a,b), axis=1)\n",
    "print(d)\n",
    "\n",
    "maximum = np.max(a)\n",
    "print(f\"maximum = {maximum}\")\n",
    "\n",
    "l_to_s = np.sort(a)[::-1]\n",
    "print(f\"l_to_s = {l_to_s}\")\n",
    "\n",
    "n = 2\n",
    "n_largest = l_to_s[0:n]\n",
    "print(f\"n_largest = {n_largest}\")"
   ]
  },
  {
   "cell_type": "code",
   "execution_count": null,
   "metadata": {},
   "outputs": [
    {
     "name": "stdout",
     "output_type": "stream",
     "text": [
      "[]\n"
     ]
    }
   ],
   "source": [
    "np.sort(np.array([1,2,3,4,5,6,7,8,9]))[0:9][::1]\n",
    "\n",
    "s = slice(1, 10, -1)\n",
    "numbers = list(range(20))\n",
    "print (numbers[s])"
   ]
  },
  {
   "cell_type": "code",
   "execution_count": null,
   "metadata": {},
   "outputs": [],
   "source": [
    "import numpy as np\n",
    "\n",
    "x = np.array([12,43,2,100,54,5,68])\n",
    "print(f\"x = {x}\")\n",
    "\n",
    "s = np.argsort(x)\n",
    "print(f\"s = {s}\")\n",
    "\n",
    "two_largest_indices = np.argsort(x)[-2:]\n",
    "print(f\"two_largest_indices = {two_largest_indices}\")\n",
    "\n",
    "tli_desc = np.argsort(x)[-2:][::-1]\n",
    "print(f\"tli_asc = {tli_desc}\")\n",
    "\n",
    "two_largest = x[np.argsort(x)[-2:][::-1]]\n",
    "print(f\"two_largest = {two_largest}\")"
   ]
  },
  {
   "cell_type": "code",
   "execution_count": null,
   "metadata": {},
   "outputs": [],
   "source": [
    "import pandas as pd\n",
    "\n",
    "data = [1,2,3,4,5]\n",
    "\n",
    "df = pd.DataFrame(data)\n",
    "\n",
    "print(df)\n",
    "\n",
    "dict1 = {\"fruit\":[\"apple\",\"mango\",\"banana\"],\"count\":[10,12,13],\n",
    "\"price\":[2,5,1],\"qty_per_bin\":[100,20,300]}\n",
    "dfd = pd.DataFrame(dict1)\n",
    "print(dfd)"
   ]
  },
  {
   "cell_type": "code",
   "execution_count": 1,
   "metadata": {},
   "outputs": [
    {
     "name": "stdout",
     "output_type": "stream",
     "text": [
      "    fruit  count  price  qty_per_bin\n",
      "0   apple     10      2          100\n",
      "1   mango     12      5           20\n",
      "2  banana     13      1          300\n",
      "\n",
      "    fruit  count  price  qty_per_bin\n",
      "0   apple    NaN    2.0          100\n",
      "1   mango    NaN    NaN           20\n",
      "2  banana   13.0    NaN          300\n",
      "\n",
      "   fruit  count  price  qty_per_bin\n",
      "0  False   True  False        False\n",
      "1  False   True   True        False\n",
      "2  False  False   True        False\n",
      "fruit          0\n",
      "count          2\n",
      "price          2\n",
      "qty_per_bin    0\n",
      "dtype: int64\n"
     ]
    }
   ],
   "source": [
    "import pandas as pd\n",
    "import numpy as np\n",
    "\n",
    "data = [1,2,3,4,5]\n",
    "\n",
    "df = pd.DataFrame(data)\n",
    "\n",
    "# print(df)\n",
    "\n",
    "dict1 = {\"fruit\":[\"apple\",\"mango\",\"banana\"],\"count\":[10,12,13],\n",
    "\"price\":[2,5,1],\"qty_per_bin\":[100,20,300]}\n",
    "dfd = pd.DataFrame(dict1)\n",
    "print(dfd)\n",
    "\n",
    "# print()\n",
    "# print(\"Filtered to high:\")\n",
    "# high = dfd[(dfd[\"count\"]>11) & (dfd[\"qty_per_bin\"] > 150)]\n",
    "# print(high)\n",
    "\n",
    "print()\n",
    "\n",
    "# print(\"Filtered to either high:\")\n",
    "# either = dfd[(dfd[\"count\"]>11) | (dfd[\"qty_per_bin\"] > 150)]\n",
    "# print(either)\n",
    "\n",
    "dfd1 = dfd\n",
    "dfd1.iloc[0:2,1] = np.NAN\n",
    "\n",
    "dfd1.iloc[1:3,2] = np.NAN\n",
    "print(dfd1)\n",
    "\n",
    "print()\n",
    "\n",
    "is_na = dfd1.isna()\n",
    "print(is_na)\n",
    "\n",
    "print(is_na.sum())"
   ]
  },
  {
   "cell_type": "code",
   "execution_count": 2,
   "metadata": {},
   "outputs": [
    {
     "data": {
      "text/plain": [
       "'2\\n0.0 0.0\\n# Simple 3-component mixture\\n1.0 - x[0] - x[1] >= 0.0\\n'"
      ]
     },
     "execution_count": 2,
     "metadata": {},
     "output_type": "execute_result"
    }
   ],
   "source": [
    "# Read in a file\n",
    "f = open(\"mixture.txt\", \"r\")\n",
    "f.read()"
   ]
  },
  {
   "cell_type": "code",
   "execution_count": 3,
   "metadata": {},
   "outputs": [
    {
     "name": "stdout",
     "output_type": "stream",
     "text": [
      "18\n"
     ]
    }
   ],
   "source": [
    "# Create a lambda (anonymous) function\n",
    "x = lambda a: a+10\n",
    "print(x(8))"
   ]
  },
  {
   "cell_type": "code",
   "execution_count": 18,
   "metadata": {},
   "outputs": [
    {
     "name": "stdout",
     "output_type": "stream",
     "text": [
      "[0 1 2 3 4 5 6 7 8 9]\n"
     ]
    },
    {
     "ename": "TypeError",
     "evalue": "'str' object is not callable",
     "output_type": "error",
     "traceback": [
      "\u001b[0;31m---------------------------------------------------------------------------\u001b[0m",
      "\u001b[0;31mTypeError\u001b[0m                                 Traceback (most recent call last)",
      "\u001b[0;32m/var/folders/9w/cn8tqbv976gckxd0c9cbr1sw0000gn/T/ipykernel_3097/179283617.py\u001b[0m in \u001b[0;36m<module>\u001b[0;34m\u001b[0m\n\u001b[1;32m      8\u001b[0m \u001b[0mplt\u001b[0m\u001b[0;34m.\u001b[0m\u001b[0mplot\u001b[0m\u001b[0;34m(\u001b[0m\u001b[0mx\u001b[0m\u001b[0;34m,\u001b[0m\u001b[0my\u001b[0m\u001b[0;34m)\u001b[0m\u001b[0;34m\u001b[0m\u001b[0;34m\u001b[0m\u001b[0m\n\u001b[1;32m      9\u001b[0m \u001b[0;31m# plt.xlabel(\"x-axis\")\u001b[0m\u001b[0;34m\u001b[0m\u001b[0;34m\u001b[0m\u001b[0m\n\u001b[0;32m---> 10\u001b[0;31m \u001b[0mplt\u001b[0m\u001b[0;34m.\u001b[0m\u001b[0mylabel\u001b[0m\u001b[0;34m(\u001b[0m\u001b[0;34m\"y\"\u001b[0m\u001b[0;34m)\u001b[0m\u001b[0;34m\u001b[0m\u001b[0;34m\u001b[0m\u001b[0m\n\u001b[0m\u001b[1;32m     11\u001b[0m \u001b[0;31m# plt.title(\"X vs Y\")\u001b[0m\u001b[0;34m\u001b[0m\u001b[0;34m\u001b[0m\u001b[0m\n",
      "\u001b[0;31mTypeError\u001b[0m: 'str' object is not callable"
     ]
    },
    {
     "data": {
      "image/png": "[encoded data removed]",
      "text/plain": [
       "<Figure size 432x288 with 1 Axes>"
      ]
     },
     "metadata": {
      "needs_background": "light"
     },
     "output_type": "display_data"
    }
   ],
   "source": [
    "import numpy as np\n",
    "from matplotlib import pyplot as plt\n",
    "\n",
    "x = np.arange(0,10,1)\n",
    "x = np.arange(0,10,1)\n",
    "print(x)\n",
    "\n",
    "plt.plot(x,y)\n",
    "# plt.xlabel(\"x-axis\")\n",
    "# plt.ylabel(\"y\")\n",
    "# plt.title(\"X vs Y\")"
   ]
  },
  {
   "cell_type": "code",
   "execution_count": 23,
   "metadata": {},
   "outputs": [
    {
     "name": "stdout",
     "output_type": "stream",
     "text": [
      "['apple', 'banana', 'orange']\n",
      "[50, 20, 30]\n"
     ]
    },
    {
     "data": {
      "text/plain": [
       "<BarContainer object of 3 artists>"
      ]
     },
     "execution_count": 23,
     "metadata": {},
     "output_type": "execute_result"
    },
    {
     "data": {
      "image/png": "[encoded data removed]",
      "text/plain": [
       "<Figure size 432x288 with 1 Axes>"
      ]
     },
     "metadata": {
      "needs_background": "light"
     },
     "output_type": "display_data"
    }
   ],
   "source": [
    "from matplotlib import pyplot as plt\n",
    "\n",
    "data={\"apple\": 50, \"banana\": 20, \"orange\": 30}\n",
    "\n",
    "names = list(data.keys())\n",
    "values = list(data.values())\n",
    "\n",
    "print(names)\n",
    "print(values)\n",
    "\n",
    "plt.bar(names, values)"
   ]
  },
  {
   "cell_type": "code",
   "execution_count": null,
   "metadata": {},
   "outputs": [],
   "source": [
    "# SymPy in CodeInterview.io\n",
    "import sympy\n",
    "import sympy.core.relational as sympyrel\n",
    "\n",
    "x = sympy.symbols(\"x\")\n",
    "solution = sympy.solve([x > 3,x**2 < 25])\n",
    "print(solution)\n",
    "\n",
    "limits = [rel.canonical.rhs for rel in solution.atoms(sympyrel.Relational)]\n",
    "print(limits)\n",
    "\n",
    "limits_loop = []\n",
    "for rel in solution.atoms(sympyrel.Relational):\n",
    "  limits_loop += [rel.canonical.rhs]\n",
    "  # print(rel.canonical.rhs)\n",
    "print(limits_loop)"
   ]
  },
  {
   "cell_type": "code",
   "execution_count": null,
   "metadata": {},
   "outputs": [],
   "source": [
    "# String in ALL CAPS\n",
    "caps = \"hi\".upper()\n",
    "print(caps)"
   ]
  },
  {
   "cell_type": "code",
   "execution_count": null,
   "metadata": {},
   "outputs": [],
   "source": [
    "# Call a function in CodeInterview.io\n",
    "def add_ten(i):\n",
    "  return i+10\n",
    "  \n",
    "print(add_ten(5))  "
   ]
  },
  {
   "cell_type": "code",
   "execution_count": null,
   "metadata": {},
   "outputs": [],
   "source": [
    "# Create a class in CodeInterview.io\n",
    "class num:\n",
    "  def __init__(self, i):\n",
    "    self.i = i\n",
    "    \n",
    "  def add_ten(self):\n",
    "    return self.i+10\n",
    "\n",
    "my_num = num(9)\n",
    "print(my_num.add_ten())  "
   ]
  },
  {
   "cell_type": "code",
   "execution_count": null,
   "metadata": {},
   "outputs": [],
   "source": [
    "# Shuffle a list in place and by making a copy\n",
    "from random import shuffle\n",
    "from random import sample\n",
    "\n",
    "x = ['mary', 'had', 'a', 'little', 'lamb']\n",
    "\n",
    "shuffle(x)\n",
    "\n",
    "print(x)\n",
    "\n",
    "y = sample(x, len(x))\n",
    "print(y)"
   ]
  },
  {
   "cell_type": "code",
   "execution_count": 24,
   "metadata": {},
   "outputs": [
    {
     "name": "stdout",
     "output_type": "stream",
     "text": [
      "22\n",
      "22\n"
     ]
    }
   ],
   "source": [
    "# Count number of characters in string without using len()\n",
    "str = \"Mary had a little lamb\"\n",
    "\n",
    "str_len = 0\n",
    "for letter in str:\n",
    "  str_len += 1\n",
    "\n",
    "print(str_len)\n",
    "\n",
    "# Check that result is correct\n",
    "print(len(str))"
   ]
  },
  {
   "cell_type": "code",
   "execution_count": null,
   "metadata": {},
   "outputs": [],
   "source": [
    "# Replace all odd values with -1 using NumPy\n",
    "import numpy as np\n",
    "\n",
    "# For loop method\n",
    "arr0 = np.arange(0, 10)\n",
    "print(arr0)\n",
    "\n",
    "for index, element in enumerate(arr0):\n",
    "  if (element % 2 == 1):\n",
    "    arr0[index] = -1\n",
    "    \n",
    "print(f\"arr0 = {arr0}\")\n",
    "    \n",
    "# NumPy indexing method--does not work with lists\n",
    "arr = np.arange(0, 10)\n",
    "arr[arr % 2 == 1] = -1\n",
    "\n",
    "print(f\"arr  = {arr}\")"
   ]
  },
  {
   "cell_type": "code",
   "execution_count": null,
   "metadata": {},
   "outputs": [],
   "source": [
    "# Find common elements between two NumPy arrays\n",
    "import numpy as np\n",
    "\n",
    "# np.array takes the values\n",
    "a = np.array([1, 2, 4])\n",
    "b = np.array([2, 4, 7, 8])\n",
    "\n",
    "print(np.intersect1d(a,b))\n",
    "\n",
    "# np.array can handle multi-dimensional arrays\n",
    "d = np.array([[3,4,5],[7,8,9]])\n",
    "print(f\"d = {d}\")\n",
    "\n",
    "e = np.array([[4,5,6],[7,11,12]])\n",
    "\n",
    "print(f\"np.intersect1d(d,e) = {np.intersect1d(d,e)}\")\n",
    "\n",
    "# np.ndarray takes the shape of the array, e.g. 3x2x4\n",
    "c = np.ndarray([3,2,4])\n",
    "print(f\"c = {c}\")"
   ]
  },
  {
   "cell_type": "code",
   "execution_count": 25,
   "metadata": {},
   "outputs": [
    {
     "name": "stdout",
     "output_type": "stream",
     "text": [
      "0      mary\n",
      "1       had\n",
      "2         a\n",
      "3    little\n",
      "4      lamb\n",
      "dtype: object\n",
      "0      Mary\n",
      "1       Had\n",
      "2         A\n",
      "3    Little\n",
      "4      Lamb\n",
      "dtype: object\n"
     ]
    }
   ],
   "source": [
    "# Pandas series\n",
    "import pandas as pd\n",
    "\n",
    "ser = pd.Series(['mary','had','a','little','lamb'])\n",
    "print(ser)\n",
    "\n",
    "# Capitalize first word in each item in series\n",
    "ti = ser.map(lambda x: x.title())\n",
    "print(ti)\n",
    "\n",
    "# Count number of letters in each item in series\n",
    "count = ser.map(lambda x: len(x))\n",
    "print(count)"
   ]
  },
  {
   "cell_type": "code",
   "execution_count": null,
   "metadata": {},
   "outputs": [],
   "source": [
    "# Pandas dataframe: rename columns\n",
    "import pandas as pd\n",
    "\n",
    "dict = {\"cost\": [1,2,3], \"qty\": [4,5,6]}\n",
    "df = pd.DataFrame(dict)\n",
    "# df = pd.DataFrame([[1,2,3],[4,5,6]])\n",
    "print(df)\n",
    "\n",
    "dfr = df.rename(columns={\"cost\":\"new_cost\"})\n",
    "print(dfr)"
   ]
  },
  {
   "cell_type": "code",
   "execution_count": 27,
   "metadata": {},
   "outputs": [
    {
     "name": "stdout",
     "output_type": "stream",
     "text": [
      "   cost  qty\n",
      "0   1.0    4\n",
      "1   2.1    5\n",
      "2   3.0    6\n",
      "y_pred = [[3.2]]\n",
      "RMS error: 0.1999999999999993\n"
     ]
    }
   ],
   "source": [
    "# Linear regression fit in scikit-learn\n",
    "import pandas as pd\n",
    "import numpy as np\n",
    "\n",
    "dict = {\"cost\": [1,2.1,3], \"qty\": [4,5,6]}\n",
    "df = pd.DataFrame(dict)\n",
    "print(df)\n",
    "\n",
    "x = pd.DataFrame(df[\"qty\"])\n",
    "y = pd.DataFrame(df[\"cost\"])\n",
    "\n",
    "from sklearn.model_selection import train_test_split\n",
    "\n",
    "# Split data into train and test\n",
    "x_train, x_test, y_train, y_test = train_test_split(x, y, test_size=0.20)\n",
    "\n",
    "# Build model\n",
    "from sklearn.linear_model import LinearRegression\n",
    "regressor = LinearRegression()\n",
    "regressor.fit(x_train, y_train)\n",
    "\n",
    "y_pred = regressor.predict(x_test)\n",
    "\n",
    "print(f\"y_pred = {y_pred}\")\n",
    "\n",
    "from sklearn import metrics\n",
    "print(f\"RMS error: {np.sqrt(metrics.mean_squared_error(y_test, y_pred))}\")"
   ]
  },
  {
   "cell_type": "code",
   "execution_count": null,
   "metadata": {},
   "outputs": [],
   "source": [
    "# Show version of Python\n",
    "import sys\n",
    "print(sys.version)"
   ]
  },
  {
   "cell_type": "code",
   "execution_count": null,
   "metadata": {},
   "outputs": [],
   "source": [
    "# Decision tree classification in scikit-learn\n",
    "import pandas as pd\n",
    "import numpy as np\n",
    "\n",
    "dict = {\"cost\": [1,2.1,3], \"species\": [\"human\",\"rat\",\"rose\"]}\n",
    "df = pd.DataFrame(dict)\n",
    "print(df)\n",
    "\n",
    "x = pd.DataFrame(df[\"cost\"])\n",
    "y = pd.DataFrame(df[\"species\"])\n",
    "\n",
    "from sklearn.model_selection import train_test_split\n",
    "\n",
    "# Split data into train and test\n",
    "x_train, x_test, y_train, y_test = train_test_split(x, y, test_size=0.20)\n",
    "\n",
    "# Build model\n",
    "from sklearn.tree import DecisionTreeClassifier\n",
    "classifier = DecisionTreeClassifier()\n",
    "classifier.fit(x_train, y_train)\n",
    "\n",
    "# Fit data to model\n",
    "y_pred = classifier.predict(x_test)\n",
    "\n",
    "# Calculate metrics\n",
    "import sklearn.metrics\n",
    "print(sklearn.metrics.confusion_matrix(y_test, y_pred))\n",
    "\n",
    "print(sklearn.metrics.accuracy_score(y_test, y_pred))"
   ]
  },
  {
   "cell_type": "code",
   "execution_count": 32,
   "metadata": {},
   "outputs": [
    {
     "data": {
      "text/plain": [
       "{'hello': 'there', 'list': [4, 5]}"
      ]
     },
     "execution_count": 32,
     "metadata": {},
     "output_type": "execute_result"
    }
   ],
   "source": [
    "dict2 = {\"hello\": \"there\", \"list\": [1,2,3]}\n",
    "dict2[\"list\"] = [4,5]\n",
    "dict2"
   ]
  },
  {
   "cell_type": "code",
   "execution_count": null,
   "metadata": {},
   "outputs": [],
   "source": [
    "# Sets\n",
    "my_set = {1,9,5,1,5,7, \"hi\", (1,3)}\n",
    "print(f\"my_set = {my_set}\")\n",
    "# print(1 in my_set)\n",
    "set2 = {1, 7, 2, 4, 6}\n",
    "print(f\"set2 = {set2}\")\n",
    "\n",
    "union = my_set | set2\n",
    "print(f\"union={union}\")\n",
    "\n",
    "intersection = my_set & set2\n",
    "print(f\"intersection={intersection}\")\n",
    "\n",
    "diff = my_set - set2\n",
    "print(f\"diff={diff}\")\n",
    "\n",
    "sym_diff = my_set ^ set2\n",
    "print(f\"sym_diff={sym_diff}\")\n",
    "\n",
    "print(f\"set2 issubset of my_set: {my_set <= set2}\")"
   ]
  },
  {
   "cell_type": "code",
   "execution_count": 6,
   "metadata": {},
   "outputs": [
    {
     "name": "stdout",
     "output_type": "stream",
     "text": [
      "1\n",
      "4\n",
      "9\n",
      "16\n",
      "25\n",
      "36\n",
      "49\n",
      "64\n",
      "81\n"
     ]
    }
   ],
   "source": [
    "# Yield: Produce a stream of output which can be read\n",
    "def squares():\n",
    "    for n in range(1,10):\n",
    "        yield n**2\n",
    "\n",
    "import time\n",
    "\n",
    "for square in squares():\n",
    "    print(square)\n",
    "    time.sleep(0.3)"
   ]
  }
 ],
 "metadata": {
  "interpreter": {
   "hash": "a805e4787fe41e208b9e9ee3ee0be5f857b11e5edac61fba9adbad0693aa92c1"
  },
  "kernelspec": {
   "display_name": "Python 3.9.7 ('base')",
   "language": "python",
   "name": "python3"
  },
  "language_info": {
   "codemirror_mode": {
    "name": "ipython",
    "version": 3
   },
   "file_extension": ".py",
   "mimetype": "text/x-python",
   "name": "python",
   "nbconvert_exporter": "python",
   "pygments_lexer": "ipython3",
   "version": "3.9.7"
  },
  "orig_nbformat": 4
 },
 "nbformat": 4,
 "nbformat_minor": 2
}
