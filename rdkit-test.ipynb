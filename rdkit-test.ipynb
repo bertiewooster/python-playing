{
 "cells": [
  {
   "cell_type": "code",
   "execution_count": 11,
   "metadata": {},
   "outputs": [
    {
     "data": {
      "text/plain": [
       "26.982"
      ]
     },
     "execution_count": 11,
     "metadata": {},
     "output_type": "execute_result"
    }
   ],
   "source": [
    "# import rdkit\n",
    "from rdkit import Chem\n",
    "from rdkit.Chem.Descriptors import MolWt\n",
    "# from rdkit.Chem import Draw\n",
    "\n",
    "# from rdkit.Chem.Draw import IPythonConsole\n",
    "\n",
    "m = Chem.MolFromSmiles('[Al]')\n",
    "m\n",
    "\n",
    "mw = MolWt(m)\n",
    "mw"
   ]
  }
 ],
 "metadata": {
  "interpreter": {
   "hash": "f8b9e48fa26c0cee807577a4309d1f208b4f08c0094fff1e9a87a3043a77ce60"
  },
  "kernelspec": {
   "display_name": "Python 3.10.4 ('my-rdkit-env')",
   "language": "python",
   "name": "python3"
  },
  "language_info": {
   "codemirror_mode": {
    "name": "ipython",
    "version": 3
   },
   "file_extension": ".py",
   "mimetype": "text/x-python",
   "name": "python",
   "nbconvert_exporter": "python",
   "pygments_lexer": "ipython3",
   "version": "3.10.4"
  },
  "orig_nbformat": 4
 },
 "nbformat": 4,
 "nbformat_minor": 2
}
